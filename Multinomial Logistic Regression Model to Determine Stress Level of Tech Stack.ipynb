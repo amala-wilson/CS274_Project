{
 "cells": [
  {
   "cell_type": "code",
   "execution_count": 5,
   "metadata": {},
   "outputs": [],
   "source": [
    "# Import required libraries\n",
    "import pandas as pd\n",
    "import numpy as np\n",
    "import seaborn as sns\n",
    "import matplotlib.pyplot as plt"
   ]
  },
  {
   "cell_type": "code",
   "execution_count": 10,
   "metadata": {},
   "outputs": [
    {
     "name": "stdout",
     "output_type": "stream",
     "text": [
      "   log_level  tech_stack_status\n",
      "0          9                  3\n",
      "1          9                  3\n",
      "2          9                  3\n",
      "3          9                  3\n",
      "4          9                  3\n",
      "   log_level  tech_stack_status\n",
      "0          9                  3\n",
      "1          9                  3\n",
      "2          9                  3\n",
      "3          9                  3\n",
      "4          9                  3\n"
     ]
    }
   ],
   "source": [
    "# Collect the training and test data\n",
    "df1 = pd.read_csv(\"mongodb_dataset.csv\")\n",
    "print(df1.head(5))\n",
    "df2 = pd.read_csv(\"mongodb_dataset_test.csv\")\n",
    "print(df2.head(5))"
   ]
  },
  {
   "cell_type": "code",
   "execution_count": 11,
   "metadata": {},
   "outputs": [],
   "source": [
    "# Import required libraries to use Logistic Regression\n",
    "from sklearn.model_selection import train_test_split\n",
    "from sklearn.linear_model import LogisticRegression\n",
    "from sklearn.metrics import classification_report\n",
    "from sklearn.metrics import confusion_matrix, accuracy_score"
   ]
  },
  {
   "cell_type": "code",
   "execution_count": 12,
   "metadata": {},
   "outputs": [
    {
     "name": "stdout",
     "output_type": "stream",
     "text": [
      "[[-2.44937981]\n",
      " [ 1.75655045]\n",
      " [ 0.69282936]]\n",
      "[ 20.79464088 -18.91897078  -1.8756701 ]\n",
      "[48]\n"
     ]
    }
   ],
   "source": [
    "x_train = df.drop('tech_stack_status', axis=1)\n",
    "y_train = df['tech_stack_status']\n",
    "#x_train, x_test, y_train, y_test = train_test_split(x, y, test_size=0.3, random_state=0)\n",
    "logmodel = LogisticRegression(solver='lbfgs', multi_class='multinomial')\n",
    "logmodel.fit(x_train, y_train)\n",
    "print(logmodel.coef_)\n",
    "print(logmodel.intercept_)\n",
    "print(logmodel.n_iter_)"
   ]
  },
  {
   "cell_type": "code",
   "execution_count": 13,
   "metadata": {},
   "outputs": [
    {
     "name": "stdout",
     "output_type": "stream",
     "text": [
      "              precision    recall  f1-score   support\n",
      "\n",
      "           1       0.48      0.88      0.62        17\n",
      "           2       0.95      0.67      0.78        57\n",
      "           3       0.55      0.62      0.58        26\n",
      "\n",
      "    accuracy                           0.69       100\n",
      "   macro avg       0.66      0.72      0.66       100\n",
      "weighted avg       0.77      0.69      0.70       100\n",
      "\n",
      "[[15  2  0]\n",
      " [ 6 38 13]\n",
      " [10  0 16]]\n",
      "0.69\n"
     ]
    }
   ],
   "source": [
    "x_test = df2.drop('tech_stack_status', axis=1)\n",
    "y_test = df2['tech_stack_status']\n",
    "\n",
    "predictions = logmodel.predict(x_test)\n",
    "print(classification_report(y_test, predictions))\n",
    "print(confusion_matrix(y_test, predictions))\n",
    "print(accuracy_score(y_test, predictions))"
   ]
  },
  {
   "cell_type": "code",
   "execution_count": null,
   "metadata": {},
   "outputs": [],
   "source": []
  }
 ],
 "metadata": {
  "kernelspec": {
   "display_name": "Python 3",
   "language": "python",
   "name": "python3"
  },
  "language_info": {
   "codemirror_mode": {
    "name": "ipython",
    "version": 3
   },
   "file_extension": ".py",
   "mimetype": "text/x-python",
   "name": "python",
   "nbconvert_exporter": "python",
   "pygments_lexer": "ipython3",
   "version": "3.7.4"
  }
 },
 "nbformat": 4,
 "nbformat_minor": 2
}
