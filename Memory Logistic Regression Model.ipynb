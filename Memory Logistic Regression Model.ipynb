{
 "cells": [
  {
   "cell_type": "code",
   "execution_count": 1,
   "metadata": {},
   "outputs": [],
   "source": [
    "# Import required libraries\n",
    "import pandas as pd\n",
    "import numpy as np\n",
    "import seaborn as sns\n",
    "import matplotlib.pyplot as plt"
   ]
  },
  {
   "cell_type": "code",
   "execution_count": 14,
   "metadata": {},
   "outputs": [
    {
     "name": "stdout",
     "output_type": "stream",
     "text": [
      "   memory_usage_pct  sufficient_memory\n",
      "0         12.588394                  0\n",
      "1          5.579711                  0\n",
      "2          2.245485                  0\n",
      "3          0.952620                  0\n",
      "4          2.041364                  0\n",
      "   memory_usage_pct  sufficient_memory\n",
      "0           75.5000                  1\n",
      "1           75.6000                  1\n",
      "2           75.4000                  1\n",
      "3           69.8001                  0\n",
      "4           68.4000                  0\n"
     ]
    }
   ],
   "source": [
    "# Collect the training and testing data\n",
    "df1 = pd.read_csv(\"memory_usage_data_1.csv\")\n",
    "print(df1.head(5))\n",
    "df2 = pd.read_csv(\"memory_usage_data_local_system.csv\")\n",
    "print(df2.head(5))"
   ]
  },
  {
   "cell_type": "code",
   "execution_count": 15,
   "metadata": {},
   "outputs": [],
   "source": [
    "# Import required libraries to use Logistic Regression\n",
    "from sklearn.model_selection import train_test_split\n",
    "from sklearn.linear_model import LogisticRegression\n",
    "from sklearn.metrics import classification_report\n",
    "from sklearn.metrics import confusion_matrix, accuracy_score"
   ]
  },
  {
   "cell_type": "code",
   "execution_count": 16,
   "metadata": {},
   "outputs": [
    {
     "name": "stdout",
     "output_type": "stream",
     "text": [
      "[[0.2975772]]\n",
      "[-16.69296342]\n",
      "[29]\n"
     ]
    }
   ],
   "source": [
    "x_train = df1.drop('sufficient_memory', axis=1)\n",
    "y_train = df1['sufficient_memory']\n",
    "x_train, x_test, y_train, y_test = train_test_split(x, y, test_size=0.3, random_state=0)\n",
    "logmodel = LogisticRegression(solver='lbfgs')\n",
    "logmodel.fit(x_train, y_train)\n",
    "print(logmodel.coef_)\n",
    "print(logmodel.intercept_)\n",
    "print(logmodel.n_iter_)"
   ]
  },
  {
   "cell_type": "code",
   "execution_count": 17,
   "metadata": {},
   "outputs": [
    {
     "name": "stdout",
     "output_type": "stream",
     "text": [
      "              precision    recall  f1-score   support\n",
      "\n",
      "           0       0.00      0.00      0.00        72\n",
      "           1       0.28      1.00      0.44        28\n",
      "\n",
      "    accuracy                           0.28       100\n",
      "   macro avg       0.14      0.50      0.22       100\n",
      "weighted avg       0.08      0.28      0.12       100\n",
      "\n",
      "[[ 0 72]\n",
      " [ 0 28]]\n",
      "0.28\n"
     ]
    },
    {
     "name": "stderr",
     "output_type": "stream",
     "text": [
      "/Users/amalachirayil/opt/anaconda3/lib/python3.7/site-packages/sklearn/metrics/classification.py:1437: UndefinedMetricWarning: Precision and F-score are ill-defined and being set to 0.0 in labels with no predicted samples.\n",
      "  'precision', 'predicted', average, warn_for)\n"
     ]
    }
   ],
   "source": [
    "x_test = df2.drop('sufficient_memory', axis=1)\n",
    "y_test = df2['sufficient_memory']\n",
    "\n",
    "predictions = logmodel.predict(x_test)\n",
    "print(classification_report(y_test, predictions))\n",
    "print(confusion_matrix(y_test, predictions))\n",
    "print(accuracy_score(y_test, predictions))"
   ]
  }
 ],
 "metadata": {
  "kernelspec": {
   "display_name": "Python 3",
   "language": "python",
   "name": "python3"
  },
  "language_info": {
   "codemirror_mode": {
    "name": "ipython",
    "version": 3
   },
   "file_extension": ".py",
   "mimetype": "text/x-python",
   "name": "python",
   "nbconvert_exporter": "python",
   "pygments_lexer": "ipython3",
   "version": "3.7.4"
  }
 },
 "nbformat": 4,
 "nbformat_minor": 2
}
