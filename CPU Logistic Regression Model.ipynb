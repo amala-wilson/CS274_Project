{
 "cells": [
  {
   "cell_type": "code",
   "execution_count": 14,
   "metadata": {},
   "outputs": [],
   "source": [
    "# Import required libraries\n",
    "import pandas as pd\n",
    "import numpy as np\n",
    "import seaborn as sns\n",
    "import matplotlib.pyplot as plt"
   ]
  },
  {
   "cell_type": "code",
   "execution_count": 15,
   "metadata": {},
   "outputs": [
    {
     "name": "stdout",
     "output_type": "stream",
     "text": [
      "   cpu_usage_pct  sufficient_cpu\n",
      "0       1.500000               0\n",
      "1       0.500000               0\n",
      "2       0.466667               0\n",
      "3       0.400000               0\n",
      "4       0.333333               0\n",
      "   cpu_usage_pct  sufficient_cpu\n",
      "0           21.7               0\n",
      "1           19.8               0\n",
      "2           79.5               1\n",
      "3           78.5               1\n",
      "4           84.9               1\n"
     ]
    }
   ],
   "source": [
    "# Collect the training and testing data\n",
    "df1 = pd.read_csv(\"CPU_usage_data_1.csv\")\n",
    "print(df1.head(5))\n",
    "df2 = pd.read_csv(\"CPU_usage_data_local_system.csv\")\n",
    "print(df2.head(5))"
   ]
  },
  {
   "cell_type": "code",
   "execution_count": 16,
   "metadata": {},
   "outputs": [],
   "source": [
    "# Import required libraries to use Logistic Regression\n",
    "from sklearn.model_selection import train_test_split\n",
    "from sklearn.linear_model import LogisticRegression\n",
    "from sklearn.metrics import classification_report\n",
    "from sklearn.metrics import confusion_matrix, accuracy_score"
   ]
  },
  {
   "cell_type": "code",
   "execution_count": 17,
   "metadata": {},
   "outputs": [
    {
     "name": "stdout",
     "output_type": "stream",
     "text": [
      "[[0.94740827]]\n",
      "[-66.70175021]\n",
      "[29]\n"
     ]
    }
   ],
   "source": [
    "x_train = df1.drop('sufficient_cpu', axis=1)\n",
    "y_train = df1['sufficient_cpu']\n",
    "logmodel = LogisticRegression(solver='lbfgs')\n",
    "logmodel.fit(x_train, y_train)\n",
    "print(logmodel.coef_)\n",
    "print(logmodel.intercept_)\n",
    "print(logmodel.n_iter_)"
   ]
  },
  {
   "cell_type": "code",
   "execution_count": 18,
   "metadata": {},
   "outputs": [
    {
     "name": "stdout",
     "output_type": "stream",
     "text": [
      "              precision    recall  f1-score   support\n",
      "\n",
      "           0       1.00      0.97      0.98        65\n",
      "           1       0.95      1.00      0.97        35\n",
      "\n",
      "    accuracy                           0.98       100\n",
      "   macro avg       0.97      0.98      0.98       100\n",
      "weighted avg       0.98      0.98      0.98       100\n",
      "\n",
      "[[63  2]\n",
      " [ 0 35]]\n",
      "0.98\n"
     ]
    }
   ],
   "source": [
    "x_test = df2.drop('sufficient_cpu', axis=1)\n",
    "y_test = df2['sufficient_cpu']\n",
    "\n",
    "predictions = logmodel.predict(x_test)\n",
    "print(classification_report(y_test, predictions))\n",
    "print(confusion_matrix(y_test, predictions))\n",
    "print(accuracy_score(y_test, predictions))\n",
    "\n"
   ]
  }
 ],
 "metadata": {
  "kernelspec": {
   "display_name": "Python 3",
   "language": "python",
   "name": "python3"
  },
  "language_info": {
   "codemirror_mode": {
    "name": "ipython",
    "version": 3
   },
   "file_extension": ".py",
   "mimetype": "text/x-python",
   "name": "python",
   "nbconvert_exporter": "python",
   "pygments_lexer": "ipython3",
   "version": "3.7.4"
  }
 },
 "nbformat": 4,
 "nbformat_minor": 2
}
